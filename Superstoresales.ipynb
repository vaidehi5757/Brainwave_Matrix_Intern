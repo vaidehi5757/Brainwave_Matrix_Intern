{
 "cells": [
  {
   "cell_type": "code",
   "execution_count": 12,
   "id": "2ad97476-c651-42fe-b701-de631ccd28bd",
   "metadata": {},
   "outputs": [],
   "source": [
    "import pandas as pd\n",
    "import numpy as np"
   ]
  },
  {
   "cell_type": "code",
   "execution_count": 13,
   "id": "b70d6a3c-610c-4317-8b8b-ef820fb7b654",
   "metadata": {},
   "outputs": [],
   "source": [
    "df = pd.read_csv(\"Superstore Sales Dataset.csv\")"
   ]
  },
  {
   "cell_type": "code",
   "execution_count": 14,
   "id": "868c0610-4385-421e-bab9-8ffba8c941b3",
   "metadata": {
    "scrolled": true
   },
   "outputs": [
    {
     "data": {
      "text/html": [
       "<div>\n",
       "<style scoped>\n",
       "    .dataframe tbody tr th:only-of-type {\n",
       "        vertical-align: middle;\n",
       "    }\n",
       "\n",
       "    .dataframe tbody tr th {\n",
       "        vertical-align: top;\n",
       "    }\n",
       "\n",
       "    .dataframe thead th {\n",
       "        text-align: right;\n",
       "    }\n",
       "</style>\n",
       "<table border=\"1\" class=\"dataframe\">\n",
       "  <thead>\n",
       "    <tr style=\"text-align: right;\">\n",
       "      <th></th>\n",
       "      <th>Row ID</th>\n",
       "      <th>Order ID</th>\n",
       "      <th>Order Date</th>\n",
       "      <th>Ship Date</th>\n",
       "      <th>Ship Mode</th>\n",
       "      <th>Customer ID</th>\n",
       "      <th>Customer Name</th>\n",
       "      <th>Segment</th>\n",
       "      <th>Country</th>\n",
       "      <th>City</th>\n",
       "      <th>State</th>\n",
       "      <th>Postal Code</th>\n",
       "      <th>Region</th>\n",
       "      <th>Product ID</th>\n",
       "      <th>Category</th>\n",
       "      <th>Sub-Category</th>\n",
       "      <th>Product Name</th>\n",
       "      <th>Sales</th>\n",
       "    </tr>\n",
       "  </thead>\n",
       "  <tbody>\n",
       "    <tr>\n",
       "      <th>0</th>\n",
       "      <td>1</td>\n",
       "      <td>CA-2017-152156</td>\n",
       "      <td>08/11/2017</td>\n",
       "      <td>11/11/2017</td>\n",
       "      <td>Second Class</td>\n",
       "      <td>CG-12520</td>\n",
       "      <td>Claire Gute</td>\n",
       "      <td>Consumer</td>\n",
       "      <td>United States</td>\n",
       "      <td>Henderson</td>\n",
       "      <td>Kentucky</td>\n",
       "      <td>42420.0</td>\n",
       "      <td>South</td>\n",
       "      <td>FUR-BO-10001798</td>\n",
       "      <td>Furniture</td>\n",
       "      <td>Bookcases</td>\n",
       "      <td>Bush Somerset Collection Bookcase</td>\n",
       "      <td>261.9600</td>\n",
       "    </tr>\n",
       "    <tr>\n",
       "      <th>1</th>\n",
       "      <td>2</td>\n",
       "      <td>CA-2017-152156</td>\n",
       "      <td>08/11/2017</td>\n",
       "      <td>11/11/2017</td>\n",
       "      <td>Second Class</td>\n",
       "      <td>CG-12520</td>\n",
       "      <td>Claire Gute</td>\n",
       "      <td>Consumer</td>\n",
       "      <td>United States</td>\n",
       "      <td>Henderson</td>\n",
       "      <td>Kentucky</td>\n",
       "      <td>42420.0</td>\n",
       "      <td>South</td>\n",
       "      <td>FUR-CH-10000454</td>\n",
       "      <td>Furniture</td>\n",
       "      <td>Chairs</td>\n",
       "      <td>Hon Deluxe Fabric Upholstered Stacking Chairs,...</td>\n",
       "      <td>731.9400</td>\n",
       "    </tr>\n",
       "    <tr>\n",
       "      <th>2</th>\n",
       "      <td>3</td>\n",
       "      <td>CA-2017-138688</td>\n",
       "      <td>12/06/2017</td>\n",
       "      <td>16/06/2017</td>\n",
       "      <td>Second Class</td>\n",
       "      <td>DV-13045</td>\n",
       "      <td>Darrin Van Huff</td>\n",
       "      <td>Corporate</td>\n",
       "      <td>United States</td>\n",
       "      <td>Los Angeles</td>\n",
       "      <td>California</td>\n",
       "      <td>90036.0</td>\n",
       "      <td>West</td>\n",
       "      <td>OFF-LA-10000240</td>\n",
       "      <td>Office Supplies</td>\n",
       "      <td>Labels</td>\n",
       "      <td>Self-Adhesive Address Labels for Typewriters b...</td>\n",
       "      <td>14.6200</td>\n",
       "    </tr>\n",
       "    <tr>\n",
       "      <th>3</th>\n",
       "      <td>4</td>\n",
       "      <td>US-2016-108966</td>\n",
       "      <td>11/10/2016</td>\n",
       "      <td>18/10/2016</td>\n",
       "      <td>Standard Class</td>\n",
       "      <td>SO-20335</td>\n",
       "      <td>Sean O'Donnell</td>\n",
       "      <td>Consumer</td>\n",
       "      <td>United States</td>\n",
       "      <td>Fort Lauderdale</td>\n",
       "      <td>Florida</td>\n",
       "      <td>33311.0</td>\n",
       "      <td>South</td>\n",
       "      <td>FUR-TA-10000577</td>\n",
       "      <td>Furniture</td>\n",
       "      <td>Tables</td>\n",
       "      <td>Bretford CR4500 Series Slim Rectangular Table</td>\n",
       "      <td>957.5775</td>\n",
       "    </tr>\n",
       "    <tr>\n",
       "      <th>4</th>\n",
       "      <td>5</td>\n",
       "      <td>US-2016-108966</td>\n",
       "      <td>11/10/2016</td>\n",
       "      <td>18/10/2016</td>\n",
       "      <td>Standard Class</td>\n",
       "      <td>SO-20335</td>\n",
       "      <td>Sean O'Donnell</td>\n",
       "      <td>Consumer</td>\n",
       "      <td>United States</td>\n",
       "      <td>Fort Lauderdale</td>\n",
       "      <td>Florida</td>\n",
       "      <td>33311.0</td>\n",
       "      <td>South</td>\n",
       "      <td>OFF-ST-10000760</td>\n",
       "      <td>Office Supplies</td>\n",
       "      <td>Storage</td>\n",
       "      <td>Eldon Fold 'N Roll Cart System</td>\n",
       "      <td>22.3680</td>\n",
       "    </tr>\n",
       "  </tbody>\n",
       "</table>\n",
       "</div>"
      ],
      "text/plain": [
       "   Row ID        Order ID  Order Date   Ship Date       Ship Mode Customer ID  \\\n",
       "0       1  CA-2017-152156  08/11/2017  11/11/2017    Second Class    CG-12520   \n",
       "1       2  CA-2017-152156  08/11/2017  11/11/2017    Second Class    CG-12520   \n",
       "2       3  CA-2017-138688  12/06/2017  16/06/2017    Second Class    DV-13045   \n",
       "3       4  US-2016-108966  11/10/2016  18/10/2016  Standard Class    SO-20335   \n",
       "4       5  US-2016-108966  11/10/2016  18/10/2016  Standard Class    SO-20335   \n",
       "\n",
       "     Customer Name    Segment        Country             City       State  \\\n",
       "0      Claire Gute   Consumer  United States        Henderson    Kentucky   \n",
       "1      Claire Gute   Consumer  United States        Henderson    Kentucky   \n",
       "2  Darrin Van Huff  Corporate  United States      Los Angeles  California   \n",
       "3   Sean O'Donnell   Consumer  United States  Fort Lauderdale     Florida   \n",
       "4   Sean O'Donnell   Consumer  United States  Fort Lauderdale     Florida   \n",
       "\n",
       "   Postal Code Region       Product ID         Category Sub-Category  \\\n",
       "0      42420.0  South  FUR-BO-10001798        Furniture    Bookcases   \n",
       "1      42420.0  South  FUR-CH-10000454        Furniture       Chairs   \n",
       "2      90036.0   West  OFF-LA-10000240  Office Supplies       Labels   \n",
       "3      33311.0  South  FUR-TA-10000577        Furniture       Tables   \n",
       "4      33311.0  South  OFF-ST-10000760  Office Supplies      Storage   \n",
       "\n",
       "                                        Product Name     Sales  \n",
       "0                  Bush Somerset Collection Bookcase  261.9600  \n",
       "1  Hon Deluxe Fabric Upholstered Stacking Chairs,...  731.9400  \n",
       "2  Self-Adhesive Address Labels for Typewriters b...   14.6200  \n",
       "3      Bretford CR4500 Series Slim Rectangular Table  957.5775  \n",
       "4                     Eldon Fold 'N Roll Cart System   22.3680  "
      ]
     },
     "execution_count": 14,
     "metadata": {},
     "output_type": "execute_result"
    }
   ],
   "source": [
    "df.head()"
   ]
  },
  {
   "cell_type": "code",
   "execution_count": 15,
   "id": "d36b905f-5af0-45ca-8c2e-117708e64e0a",
   "metadata": {
    "scrolled": true
   },
   "outputs": [
    {
     "name": "stdout",
     "output_type": "stream",
     "text": [
      "<class 'pandas.core.frame.DataFrame'>\n",
      "RangeIndex: 9800 entries, 0 to 9799\n",
      "Data columns (total 18 columns):\n",
      " #   Column         Non-Null Count  Dtype  \n",
      "---  ------         --------------  -----  \n",
      " 0   Row ID         9800 non-null   int64  \n",
      " 1   Order ID       9800 non-null   object \n",
      " 2   Order Date     9800 non-null   object \n",
      " 3   Ship Date      9800 non-null   object \n",
      " 4   Ship Mode      9800 non-null   object \n",
      " 5   Customer ID    9800 non-null   object \n",
      " 6   Customer Name  9800 non-null   object \n",
      " 7   Segment        9800 non-null   object \n",
      " 8   Country        9800 non-null   object \n",
      " 9   City           9800 non-null   object \n",
      " 10  State          9800 non-null   object \n",
      " 11  Postal Code    9789 non-null   float64\n",
      " 12  Region         9800 non-null   object \n",
      " 13  Product ID     9800 non-null   object \n",
      " 14  Category       9800 non-null   object \n",
      " 15  Sub-Category   9800 non-null   object \n",
      " 16  Product Name   9800 non-null   object \n",
      " 17  Sales          9800 non-null   float64\n",
      "dtypes: float64(2), int64(1), object(15)\n",
      "memory usage: 1.3+ MB\n"
     ]
    }
   ],
   "source": [
    "df.info()"
   ]
  },
  {
   "cell_type": "code",
   "execution_count": 16,
   "id": "d053d3ca-073c-4af6-b6e2-cb33f80c2098",
   "metadata": {
    "scrolled": true
   },
   "outputs": [
    {
     "data": {
      "text/html": [
       "<div>\n",
       "<style scoped>\n",
       "    .dataframe tbody tr th:only-of-type {\n",
       "        vertical-align: middle;\n",
       "    }\n",
       "\n",
       "    .dataframe tbody tr th {\n",
       "        vertical-align: top;\n",
       "    }\n",
       "\n",
       "    .dataframe thead th {\n",
       "        text-align: right;\n",
       "    }\n",
       "</style>\n",
       "<table border=\"1\" class=\"dataframe\">\n",
       "  <thead>\n",
       "    <tr style=\"text-align: right;\">\n",
       "      <th></th>\n",
       "      <th>Row ID</th>\n",
       "      <th>Postal Code</th>\n",
       "      <th>Sales</th>\n",
       "    </tr>\n",
       "  </thead>\n",
       "  <tbody>\n",
       "    <tr>\n",
       "      <th>count</th>\n",
       "      <td>9800.000000</td>\n",
       "      <td>9789.000000</td>\n",
       "      <td>9800.000000</td>\n",
       "    </tr>\n",
       "    <tr>\n",
       "      <th>mean</th>\n",
       "      <td>4900.500000</td>\n",
       "      <td>55273.322403</td>\n",
       "      <td>230.769059</td>\n",
       "    </tr>\n",
       "    <tr>\n",
       "      <th>std</th>\n",
       "      <td>2829.160653</td>\n",
       "      <td>32041.223413</td>\n",
       "      <td>626.651875</td>\n",
       "    </tr>\n",
       "    <tr>\n",
       "      <th>min</th>\n",
       "      <td>1.000000</td>\n",
       "      <td>1040.000000</td>\n",
       "      <td>0.444000</td>\n",
       "    </tr>\n",
       "    <tr>\n",
       "      <th>25%</th>\n",
       "      <td>2450.750000</td>\n",
       "      <td>23223.000000</td>\n",
       "      <td>17.248000</td>\n",
       "    </tr>\n",
       "    <tr>\n",
       "      <th>50%</th>\n",
       "      <td>4900.500000</td>\n",
       "      <td>58103.000000</td>\n",
       "      <td>54.490000</td>\n",
       "    </tr>\n",
       "    <tr>\n",
       "      <th>75%</th>\n",
       "      <td>7350.250000</td>\n",
       "      <td>90008.000000</td>\n",
       "      <td>210.605000</td>\n",
       "    </tr>\n",
       "    <tr>\n",
       "      <th>max</th>\n",
       "      <td>9800.000000</td>\n",
       "      <td>99301.000000</td>\n",
       "      <td>22638.480000</td>\n",
       "    </tr>\n",
       "  </tbody>\n",
       "</table>\n",
       "</div>"
      ],
      "text/plain": [
       "            Row ID   Postal Code         Sales\n",
       "count  9800.000000   9789.000000   9800.000000\n",
       "mean   4900.500000  55273.322403    230.769059\n",
       "std    2829.160653  32041.223413    626.651875\n",
       "min       1.000000   1040.000000      0.444000\n",
       "25%    2450.750000  23223.000000     17.248000\n",
       "50%    4900.500000  58103.000000     54.490000\n",
       "75%    7350.250000  90008.000000    210.605000\n",
       "max    9800.000000  99301.000000  22638.480000"
      ]
     },
     "execution_count": 16,
     "metadata": {},
     "output_type": "execute_result"
    }
   ],
   "source": [
    "df.describe()"
   ]
  },
  {
   "cell_type": "code",
   "execution_count": 17,
   "id": "91d7f8a3-d9f7-4568-96bf-4ee38c7df2d9",
   "metadata": {
    "scrolled": true
   },
   "outputs": [
    {
     "data": {
      "text/plain": [
       "Row ID            0\n",
       "Order ID          0\n",
       "Order Date        0\n",
       "Ship Date         0\n",
       "Ship Mode         0\n",
       "Customer ID       0\n",
       "Customer Name     0\n",
       "Segment           0\n",
       "Country           0\n",
       "City              0\n",
       "State             0\n",
       "Postal Code      11\n",
       "Region            0\n",
       "Product ID        0\n",
       "Category          0\n",
       "Sub-Category      0\n",
       "Product Name      0\n",
       "Sales             0\n",
       "dtype: int64"
      ]
     },
     "execution_count": 17,
     "metadata": {},
     "output_type": "execute_result"
    }
   ],
   "source": [
    "df.isnull().sum()"
   ]
  },
  {
   "cell_type": "code",
   "execution_count": 18,
   "id": "6dd66e79-4790-479c-9e2e-e2c147e1cb7b",
   "metadata": {},
   "outputs": [
    {
     "data": {
      "text/plain": [
       "0"
      ]
     },
     "execution_count": 18,
     "metadata": {},
     "output_type": "execute_result"
    }
   ],
   "source": [
    "df.duplicated().sum()"
   ]
  },
  {
   "cell_type": "code",
   "execution_count": 19,
   "id": "94d861ba-fb55-45e4-8308-21e6798ab453",
   "metadata": {},
   "outputs": [],
   "source": [
    "#fill missing values\n",
    "df['Postal Code'] = df['Postal Code'].fillna(0)"
   ]
  },
  {
   "cell_type": "code",
   "execution_count": 20,
   "id": "a490c849-ab4f-4c6b-8955-14717bea0a2d",
   "metadata": {
    "scrolled": true
   },
   "outputs": [
    {
     "data": {
      "text/plain": [
       "Row ID           0\n",
       "Order ID         0\n",
       "Order Date       0\n",
       "Ship Date        0\n",
       "Ship Mode        0\n",
       "Customer ID      0\n",
       "Customer Name    0\n",
       "Segment          0\n",
       "Country          0\n",
       "City             0\n",
       "State            0\n",
       "Postal Code      0\n",
       "Region           0\n",
       "Product ID       0\n",
       "Category         0\n",
       "Sub-Category     0\n",
       "Product Name     0\n",
       "Sales            0\n",
       "dtype: int64"
      ]
     },
     "execution_count": 20,
     "metadata": {},
     "output_type": "execute_result"
    }
   ],
   "source": [
    "df.isnull().sum()"
   ]
  },
  {
   "cell_type": "code",
   "execution_count": 21,
   "id": "5201b712-a723-4341-adea-55cf7b04ea04",
   "metadata": {
    "scrolled": true
   },
   "outputs": [
    {
     "data": {
      "text/plain": [
       "Row ID             int64\n",
       "Order ID          object\n",
       "Order Date        object\n",
       "Ship Date         object\n",
       "Ship Mode         object\n",
       "Customer ID       object\n",
       "Customer Name     object\n",
       "Segment           object\n",
       "Country           object\n",
       "City              object\n",
       "State             object\n",
       "Postal Code      float64\n",
       "Region            object\n",
       "Product ID        object\n",
       "Category          object\n",
       "Sub-Category      object\n",
       "Product Name      object\n",
       "Sales            float64\n",
       "dtype: object"
      ]
     },
     "execution_count": 21,
     "metadata": {},
     "output_type": "execute_result"
    }
   ],
   "source": [
    "df.dtypes"
   ]
  },
  {
   "cell_type": "code",
   "execution_count": 22,
   "id": "a86d3c04-bf82-4942-a84f-f4a52d6ce342",
   "metadata": {
    "scrolled": true
   },
   "outputs": [
    {
     "data": {
      "text/html": [
       "<div>\n",
       "<style scoped>\n",
       "    .dataframe tbody tr th:only-of-type {\n",
       "        vertical-align: middle;\n",
       "    }\n",
       "\n",
       "    .dataframe tbody tr th {\n",
       "        vertical-align: top;\n",
       "    }\n",
       "\n",
       "    .dataframe thead th {\n",
       "        text-align: right;\n",
       "    }\n",
       "</style>\n",
       "<table border=\"1\" class=\"dataframe\">\n",
       "  <thead>\n",
       "    <tr style=\"text-align: right;\">\n",
       "      <th></th>\n",
       "      <th>Row ID</th>\n",
       "      <th>Order ID</th>\n",
       "      <th>Order Date</th>\n",
       "      <th>Ship Date</th>\n",
       "      <th>Ship Mode</th>\n",
       "      <th>Customer ID</th>\n",
       "      <th>Customer Name</th>\n",
       "      <th>Segment</th>\n",
       "      <th>Country</th>\n",
       "      <th>City</th>\n",
       "      <th>State</th>\n",
       "      <th>Postal Code</th>\n",
       "      <th>Region</th>\n",
       "      <th>Product ID</th>\n",
       "      <th>Category</th>\n",
       "      <th>Sub-Category</th>\n",
       "      <th>Product Name</th>\n",
       "      <th>Sales</th>\n",
       "    </tr>\n",
       "  </thead>\n",
       "  <tbody>\n",
       "    <tr>\n",
       "      <th>0</th>\n",
       "      <td>1</td>\n",
       "      <td>CA-2017-152156</td>\n",
       "      <td>08/11/2017</td>\n",
       "      <td>11/11/2017</td>\n",
       "      <td>Second Class</td>\n",
       "      <td>CG-12520</td>\n",
       "      <td>Claire Gute</td>\n",
       "      <td>Consumer</td>\n",
       "      <td>United States</td>\n",
       "      <td>Henderson</td>\n",
       "      <td>Kentucky</td>\n",
       "      <td>42420.0</td>\n",
       "      <td>South</td>\n",
       "      <td>FUR-BO-10001798</td>\n",
       "      <td>Furniture</td>\n",
       "      <td>Bookcases</td>\n",
       "      <td>Bush Somerset Collection Bookcase</td>\n",
       "      <td>261.9600</td>\n",
       "    </tr>\n",
       "    <tr>\n",
       "      <th>1</th>\n",
       "      <td>2</td>\n",
       "      <td>CA-2017-152156</td>\n",
       "      <td>08/11/2017</td>\n",
       "      <td>11/11/2017</td>\n",
       "      <td>Second Class</td>\n",
       "      <td>CG-12520</td>\n",
       "      <td>Claire Gute</td>\n",
       "      <td>Consumer</td>\n",
       "      <td>United States</td>\n",
       "      <td>Henderson</td>\n",
       "      <td>Kentucky</td>\n",
       "      <td>42420.0</td>\n",
       "      <td>South</td>\n",
       "      <td>FUR-CH-10000454</td>\n",
       "      <td>Furniture</td>\n",
       "      <td>Chairs</td>\n",
       "      <td>Hon Deluxe Fabric Upholstered Stacking Chairs,...</td>\n",
       "      <td>731.9400</td>\n",
       "    </tr>\n",
       "    <tr>\n",
       "      <th>2</th>\n",
       "      <td>3</td>\n",
       "      <td>CA-2017-138688</td>\n",
       "      <td>12/06/2017</td>\n",
       "      <td>16/06/2017</td>\n",
       "      <td>Second Class</td>\n",
       "      <td>DV-13045</td>\n",
       "      <td>Darrin Van Huff</td>\n",
       "      <td>Corporate</td>\n",
       "      <td>United States</td>\n",
       "      <td>Los Angeles</td>\n",
       "      <td>California</td>\n",
       "      <td>90036.0</td>\n",
       "      <td>West</td>\n",
       "      <td>OFF-LA-10000240</td>\n",
       "      <td>Office Supplies</td>\n",
       "      <td>Labels</td>\n",
       "      <td>Self-Adhesive Address Labels for Typewriters b...</td>\n",
       "      <td>14.6200</td>\n",
       "    </tr>\n",
       "    <tr>\n",
       "      <th>3</th>\n",
       "      <td>4</td>\n",
       "      <td>US-2016-108966</td>\n",
       "      <td>11/10/2016</td>\n",
       "      <td>18/10/2016</td>\n",
       "      <td>Standard Class</td>\n",
       "      <td>SO-20335</td>\n",
       "      <td>Sean O'Donnell</td>\n",
       "      <td>Consumer</td>\n",
       "      <td>United States</td>\n",
       "      <td>Fort Lauderdale</td>\n",
       "      <td>Florida</td>\n",
       "      <td>33311.0</td>\n",
       "      <td>South</td>\n",
       "      <td>FUR-TA-10000577</td>\n",
       "      <td>Furniture</td>\n",
       "      <td>Tables</td>\n",
       "      <td>Bretford CR4500 Series Slim Rectangular Table</td>\n",
       "      <td>957.5775</td>\n",
       "    </tr>\n",
       "    <tr>\n",
       "      <th>4</th>\n",
       "      <td>5</td>\n",
       "      <td>US-2016-108966</td>\n",
       "      <td>11/10/2016</td>\n",
       "      <td>18/10/2016</td>\n",
       "      <td>Standard Class</td>\n",
       "      <td>SO-20335</td>\n",
       "      <td>Sean O'Donnell</td>\n",
       "      <td>Consumer</td>\n",
       "      <td>United States</td>\n",
       "      <td>Fort Lauderdale</td>\n",
       "      <td>Florida</td>\n",
       "      <td>33311.0</td>\n",
       "      <td>South</td>\n",
       "      <td>OFF-ST-10000760</td>\n",
       "      <td>Office Supplies</td>\n",
       "      <td>Storage</td>\n",
       "      <td>Eldon Fold 'N Roll Cart System</td>\n",
       "      <td>22.3680</td>\n",
       "    </tr>\n",
       "  </tbody>\n",
       "</table>\n",
       "</div>"
      ],
      "text/plain": [
       "   Row ID        Order ID  Order Date   Ship Date       Ship Mode Customer ID  \\\n",
       "0       1  CA-2017-152156  08/11/2017  11/11/2017    Second Class    CG-12520   \n",
       "1       2  CA-2017-152156  08/11/2017  11/11/2017    Second Class    CG-12520   \n",
       "2       3  CA-2017-138688  12/06/2017  16/06/2017    Second Class    DV-13045   \n",
       "3       4  US-2016-108966  11/10/2016  18/10/2016  Standard Class    SO-20335   \n",
       "4       5  US-2016-108966  11/10/2016  18/10/2016  Standard Class    SO-20335   \n",
       "\n",
       "     Customer Name    Segment        Country             City       State  \\\n",
       "0      Claire Gute   Consumer  United States        Henderson    Kentucky   \n",
       "1      Claire Gute   Consumer  United States        Henderson    Kentucky   \n",
       "2  Darrin Van Huff  Corporate  United States      Los Angeles  California   \n",
       "3   Sean O'Donnell   Consumer  United States  Fort Lauderdale     Florida   \n",
       "4   Sean O'Donnell   Consumer  United States  Fort Lauderdale     Florida   \n",
       "\n",
       "   Postal Code Region       Product ID         Category Sub-Category  \\\n",
       "0      42420.0  South  FUR-BO-10001798        Furniture    Bookcases   \n",
       "1      42420.0  South  FUR-CH-10000454        Furniture       Chairs   \n",
       "2      90036.0   West  OFF-LA-10000240  Office Supplies       Labels   \n",
       "3      33311.0  South  FUR-TA-10000577        Furniture       Tables   \n",
       "4      33311.0  South  OFF-ST-10000760  Office Supplies      Storage   \n",
       "\n",
       "                                        Product Name     Sales  \n",
       "0                  Bush Somerset Collection Bookcase  261.9600  \n",
       "1  Hon Deluxe Fabric Upholstered Stacking Chairs,...  731.9400  \n",
       "2  Self-Adhesive Address Labels for Typewriters b...   14.6200  \n",
       "3      Bretford CR4500 Series Slim Rectangular Table  957.5775  \n",
       "4                     Eldon Fold 'N Roll Cart System   22.3680  "
      ]
     },
     "execution_count": 22,
     "metadata": {},
     "output_type": "execute_result"
    }
   ],
   "source": [
    "df.head()"
   ]
  },
  {
   "cell_type": "code",
   "execution_count": 23,
   "id": "e5edfeaf-1122-4722-adea-78d839993a45",
   "metadata": {
    "scrolled": true
   },
   "outputs": [
    {
     "name": "stdout",
     "output_type": "stream",
     "text": [
      "Number of outliers in Sales: 1145\n"
     ]
    },
    {
     "data": {
      "text/html": [
       "<div>\n",
       "<style scoped>\n",
       "    .dataframe tbody tr th:only-of-type {\n",
       "        vertical-align: middle;\n",
       "    }\n",
       "\n",
       "    .dataframe tbody tr th {\n",
       "        vertical-align: top;\n",
       "    }\n",
       "\n",
       "    .dataframe thead th {\n",
       "        text-align: right;\n",
       "    }\n",
       "</style>\n",
       "<table border=\"1\" class=\"dataframe\">\n",
       "  <thead>\n",
       "    <tr style=\"text-align: right;\">\n",
       "      <th></th>\n",
       "      <th>Row ID</th>\n",
       "      <th>Order ID</th>\n",
       "      <th>Order Date</th>\n",
       "      <th>Ship Date</th>\n",
       "      <th>Ship Mode</th>\n",
       "      <th>Customer ID</th>\n",
       "      <th>Customer Name</th>\n",
       "      <th>Segment</th>\n",
       "      <th>Country</th>\n",
       "      <th>City</th>\n",
       "      <th>State</th>\n",
       "      <th>Postal Code</th>\n",
       "      <th>Region</th>\n",
       "      <th>Product ID</th>\n",
       "      <th>Category</th>\n",
       "      <th>Sub-Category</th>\n",
       "      <th>Product Name</th>\n",
       "      <th>Sales</th>\n",
       "    </tr>\n",
       "  </thead>\n",
       "  <tbody>\n",
       "    <tr>\n",
       "      <th>1</th>\n",
       "      <td>2</td>\n",
       "      <td>CA-2017-152156</td>\n",
       "      <td>08/11/2017</td>\n",
       "      <td>11/11/2017</td>\n",
       "      <td>Second Class</td>\n",
       "      <td>CG-12520</td>\n",
       "      <td>Claire Gute</td>\n",
       "      <td>Consumer</td>\n",
       "      <td>United States</td>\n",
       "      <td>Henderson</td>\n",
       "      <td>Kentucky</td>\n",
       "      <td>42420.0</td>\n",
       "      <td>South</td>\n",
       "      <td>FUR-CH-10000454</td>\n",
       "      <td>Furniture</td>\n",
       "      <td>Chairs</td>\n",
       "      <td>Hon Deluxe Fabric Upholstered Stacking Chairs,...</td>\n",
       "      <td>731.9400</td>\n",
       "    </tr>\n",
       "    <tr>\n",
       "      <th>3</th>\n",
       "      <td>4</td>\n",
       "      <td>US-2016-108966</td>\n",
       "      <td>11/10/2016</td>\n",
       "      <td>18/10/2016</td>\n",
       "      <td>Standard Class</td>\n",
       "      <td>SO-20335</td>\n",
       "      <td>Sean O'Donnell</td>\n",
       "      <td>Consumer</td>\n",
       "      <td>United States</td>\n",
       "      <td>Fort Lauderdale</td>\n",
       "      <td>Florida</td>\n",
       "      <td>33311.0</td>\n",
       "      <td>South</td>\n",
       "      <td>FUR-TA-10000577</td>\n",
       "      <td>Furniture</td>\n",
       "      <td>Tables</td>\n",
       "      <td>Bretford CR4500 Series Slim Rectangular Table</td>\n",
       "      <td>957.5775</td>\n",
       "    </tr>\n",
       "    <tr>\n",
       "      <th>7</th>\n",
       "      <td>8</td>\n",
       "      <td>CA-2015-115812</td>\n",
       "      <td>09/06/2015</td>\n",
       "      <td>14/06/2015</td>\n",
       "      <td>Standard Class</td>\n",
       "      <td>BH-11710</td>\n",
       "      <td>Brosina Hoffman</td>\n",
       "      <td>Consumer</td>\n",
       "      <td>United States</td>\n",
       "      <td>Los Angeles</td>\n",
       "      <td>California</td>\n",
       "      <td>90032.0</td>\n",
       "      <td>West</td>\n",
       "      <td>TEC-PH-10002275</td>\n",
       "      <td>Technology</td>\n",
       "      <td>Phones</td>\n",
       "      <td>Mitel 5320 IP Phone VoIP phone</td>\n",
       "      <td>907.1520</td>\n",
       "    </tr>\n",
       "    <tr>\n",
       "      <th>10</th>\n",
       "      <td>11</td>\n",
       "      <td>CA-2015-115812</td>\n",
       "      <td>09/06/2015</td>\n",
       "      <td>14/06/2015</td>\n",
       "      <td>Standard Class</td>\n",
       "      <td>BH-11710</td>\n",
       "      <td>Brosina Hoffman</td>\n",
       "      <td>Consumer</td>\n",
       "      <td>United States</td>\n",
       "      <td>Los Angeles</td>\n",
       "      <td>California</td>\n",
       "      <td>90032.0</td>\n",
       "      <td>West</td>\n",
       "      <td>FUR-TA-10001539</td>\n",
       "      <td>Furniture</td>\n",
       "      <td>Tables</td>\n",
       "      <td>Chromcraft Rectangular Conference Tables</td>\n",
       "      <td>1706.1840</td>\n",
       "    </tr>\n",
       "    <tr>\n",
       "      <th>11</th>\n",
       "      <td>12</td>\n",
       "      <td>CA-2015-115812</td>\n",
       "      <td>09/06/2015</td>\n",
       "      <td>14/06/2015</td>\n",
       "      <td>Standard Class</td>\n",
       "      <td>BH-11710</td>\n",
       "      <td>Brosina Hoffman</td>\n",
       "      <td>Consumer</td>\n",
       "      <td>United States</td>\n",
       "      <td>Los Angeles</td>\n",
       "      <td>California</td>\n",
       "      <td>90032.0</td>\n",
       "      <td>West</td>\n",
       "      <td>TEC-PH-10002033</td>\n",
       "      <td>Technology</td>\n",
       "      <td>Phones</td>\n",
       "      <td>Konftel 250 Conference phone - Charcoal black</td>\n",
       "      <td>911.4240</td>\n",
       "    </tr>\n",
       "  </tbody>\n",
       "</table>\n",
       "</div>"
      ],
      "text/plain": [
       "    Row ID        Order ID  Order Date   Ship Date       Ship Mode  \\\n",
       "1        2  CA-2017-152156  08/11/2017  11/11/2017    Second Class   \n",
       "3        4  US-2016-108966  11/10/2016  18/10/2016  Standard Class   \n",
       "7        8  CA-2015-115812  09/06/2015  14/06/2015  Standard Class   \n",
       "10      11  CA-2015-115812  09/06/2015  14/06/2015  Standard Class   \n",
       "11      12  CA-2015-115812  09/06/2015  14/06/2015  Standard Class   \n",
       "\n",
       "   Customer ID    Customer Name   Segment        Country             City  \\\n",
       "1     CG-12520      Claire Gute  Consumer  United States        Henderson   \n",
       "3     SO-20335   Sean O'Donnell  Consumer  United States  Fort Lauderdale   \n",
       "7     BH-11710  Brosina Hoffman  Consumer  United States      Los Angeles   \n",
       "10    BH-11710  Brosina Hoffman  Consumer  United States      Los Angeles   \n",
       "11    BH-11710  Brosina Hoffman  Consumer  United States      Los Angeles   \n",
       "\n",
       "         State  Postal Code Region       Product ID    Category Sub-Category  \\\n",
       "1     Kentucky      42420.0  South  FUR-CH-10000454   Furniture       Chairs   \n",
       "3      Florida      33311.0  South  FUR-TA-10000577   Furniture       Tables   \n",
       "7   California      90032.0   West  TEC-PH-10002275  Technology       Phones   \n",
       "10  California      90032.0   West  FUR-TA-10001539   Furniture       Tables   \n",
       "11  California      90032.0   West  TEC-PH-10002033  Technology       Phones   \n",
       "\n",
       "                                         Product Name      Sales  \n",
       "1   Hon Deluxe Fabric Upholstered Stacking Chairs,...   731.9400  \n",
       "3       Bretford CR4500 Series Slim Rectangular Table   957.5775  \n",
       "7                      Mitel 5320 IP Phone VoIP phone   907.1520  \n",
       "10           Chromcraft Rectangular Conference Tables  1706.1840  \n",
       "11      Konftel 250 Conference phone - Charcoal black   911.4240  "
      ]
     },
     "execution_count": 23,
     "metadata": {},
     "output_type": "execute_result"
    }
   ],
   "source": [
    "# Calculate IQR for Sales\n",
    "Q1 = df['Sales'].quantile(0.25)  # First quartile\n",
    "Q3 = df['Sales'].quantile(0.75)  # Third quartile\n",
    "IQR = Q3 - Q1                    # Interquartile range\n",
    "\n",
    "# Define bounds for outliers\n",
    "lower_bound = Q1 - 1.5 * IQR\n",
    "upper_bound = Q3 + 1.5 * IQR\n",
    "\n",
    "# Filter out outliers\n",
    "outliers = df[(df['Sales'] < lower_bound) | (df['Sales'] > upper_bound)]\n",
    "print(f\"Number of outliers in Sales: {len(outliers)}\")\n",
    "\n",
    "# Display a few rows with outliers\n",
    "outliers.head()"
   ]
  },
  {
   "cell_type": "code",
   "execution_count": 24,
   "id": "102fe4ee-7b55-4f91-8088-f8822e504747",
   "metadata": {
    "scrolled": true
   },
   "outputs": [
    {
     "data": {
      "text/plain": [
       "Region\n",
       "West       368\n",
       "East       327\n",
       "Central    253\n",
       "South      197\n",
       "Name: count, dtype: int64"
      ]
     },
     "execution_count": 24,
     "metadata": {},
     "output_type": "execute_result"
    }
   ],
   "source": [
    "outliers['Category'].value_counts()\n",
    "outliers['Region'].value_counts()"
   ]
  },
  {
   "cell_type": "code",
   "execution_count": 25,
   "id": "aae57756-b593-4cd8-abdd-26e61f3462ba",
   "metadata": {
    "scrolled": true
   },
   "outputs": [
    {
     "name": "stdout",
     "output_type": "stream",
     "text": [
      "Column: Row ID\n",
      "Number of Outliers: 0\n",
      "Lower Bound: -4898.5, Upper Bound: 14699.5\n",
      "--------------------------------------------------\n",
      "Column: Postal Code\n",
      "Number of Outliers: 0\n",
      "Lower Bound: -76954.5, Upper Bound: 190185.5\n",
      "--------------------------------------------------\n",
      "Column: Sales\n",
      "Number of Outliers: 1145\n",
      "Lower Bound: -272.7875000000001, Upper Bound: 500.6405000000001\n",
      "--------------------------------------------------\n",
      "    Row ID        Order ID  Order Date   Ship Date       Ship Mode  \\\n",
      "1        2  CA-2017-152156  08/11/2017  11/11/2017    Second Class   \n",
      "3        4  US-2016-108966  11/10/2016  18/10/2016  Standard Class   \n",
      "7        8  CA-2015-115812  09/06/2015  14/06/2015  Standard Class   \n",
      "10      11  CA-2015-115812  09/06/2015  14/06/2015  Standard Class   \n",
      "11      12  CA-2015-115812  09/06/2015  14/06/2015  Standard Class   \n",
      "\n",
      "   Customer ID    Customer Name   Segment        Country             City  \\\n",
      "1     CG-12520      Claire Gute  Consumer  United States        Henderson   \n",
      "3     SO-20335   Sean O'Donnell  Consumer  United States  Fort Lauderdale   \n",
      "7     BH-11710  Brosina Hoffman  Consumer  United States      Los Angeles   \n",
      "10    BH-11710  Brosina Hoffman  Consumer  United States      Los Angeles   \n",
      "11    BH-11710  Brosina Hoffman  Consumer  United States      Los Angeles   \n",
      "\n",
      "         State  Postal Code Region       Product ID    Category Sub-Category  \\\n",
      "1     Kentucky      42420.0  South  FUR-CH-10000454   Furniture       Chairs   \n",
      "3      Florida      33311.0  South  FUR-TA-10000577   Furniture       Tables   \n",
      "7   California      90032.0   West  TEC-PH-10002275  Technology       Phones   \n",
      "10  California      90032.0   West  FUR-TA-10001539   Furniture       Tables   \n",
      "11  California      90032.0   West  TEC-PH-10002033  Technology       Phones   \n",
      "\n",
      "                                         Product Name      Sales  \n",
      "1   Hon Deluxe Fabric Upholstered Stacking Chairs,...   731.9400  \n",
      "3       Bretford CR4500 Series Slim Rectangular Table   957.5775  \n",
      "7                      Mitel 5320 IP Phone VoIP phone   907.1520  \n",
      "10           Chromcraft Rectangular Conference Tables  1706.1840  \n",
      "11      Konftel 250 Conference phone - Charcoal black   911.4240  \n",
      "Outliers for Row ID saved to Row ID_outliers.csv\n",
      "Outliers for Postal Code saved to Postal Code_outliers.csv\n",
      "Outliers for Sales saved to Sales_outliers.csv\n"
     ]
    }
   ],
   "source": [
    "# Step 1: Identify all numerical columns\n",
    "numerical_columns = df.select_dtypes(include=['float64', 'int64']).columns\n",
    "\n",
    "# Step 2: Initialize a dictionary to store outlier information\n",
    "outlier_info = {}\n",
    "\n",
    "# Step 3: Iterate through each numerical column and calculate outliers using IQR\n",
    "for column in numerical_columns:\n",
    "    Q1 = df[column].quantile(0.25)  # First quartile\n",
    "    Q3 = df[column].quantile(0.75)  # Third quartile\n",
    "    IQR = Q3 - Q1  # Interquartile range\n",
    "    \n",
    "    # Define bounds for outliers\n",
    "    lower_bound = Q1 - 1.5 * IQR\n",
    "    upper_bound = Q3 + 1.5 * IQR\n",
    "    \n",
    "    # Identify outliers\n",
    "    outliers = df[(df[column] < lower_bound) | (df[column] > upper_bound)]\n",
    "    \n",
    "    # Save outlier details to the dictionary\n",
    "    outlier_info[column] = {\n",
    "        \"Number of Outliers\": len(outliers),\n",
    "        \"Lower Bound\": lower_bound,\n",
    "        \"Upper Bound\": upper_bound,\n",
    "        \"Outliers\": outliers\n",
    "    }\n",
    "    \n",
    "    # Print summary for each column\n",
    "    print(f\"Column: {column}\")\n",
    "    print(f\"Number of Outliers: {len(outliers)}\")\n",
    "    print(f\"Lower Bound: {lower_bound}, Upper Bound: {upper_bound}\")\n",
    "    print(\"-\" * 50)\n",
    "\n",
    "# Step 4: Access outlier details for specific columns\n",
    "# Example: View outliers for 'Sales'\n",
    "sales_outliers = outlier_info['Sales']['Outliers']\n",
    "print(sales_outliers.head())  # Display the first few rows of outliers in 'Sales'\n",
    "\n",
    "# Optional: Save all outlier data to separate CSVs for review\n",
    "for column in numerical_columns:\n",
    "    outliers_df = outlier_info[column][\"Outliers\"]\n",
    "    outliers_df.to_csv(f\"{column}_outliers.csv\", index=False)\n",
    "    print(f\"Outliers for {column} saved to {column}_outliers.csv\")"
   ]
  },
  {
   "cell_type": "code",
   "execution_count": 26,
   "id": "caab63ef-9245-48c7-b115-f0a0d23af0b1",
   "metadata": {
    "scrolled": true
   },
   "outputs": [
    {
     "data": {
      "image/png": "[encoded data removed]",
      "text/plain": [
       "<Figure size 640x480 with 1 Axes>"
      ]
     },
     "metadata": {},
     "output_type": "display_data"
    }
   ],
   "source": [
    "import seaborn as sns\n",
    "import matplotlib.pyplot as plt\n",
    "\n",
    "# Boxplot for Sales\n",
    "sns.boxplot(x=df['Sales'])\n",
    "plt.title(\"Boxplot of Sales\")\n",
    "plt.show()"
   ]
  },
  {
   "cell_type": "code",
   "execution_count": 27,
   "id": "c3bbccac-97d1-4fdb-9b79-6b663d4b2642",
   "metadata": {},
   "outputs": [
    {
     "name": "stdout",
     "output_type": "stream",
     "text": [
      "Capping applied to the Sales column.\n"
     ]
    }
   ],
   "source": [
    "import pandas as pd\n",
    "\n",
    "# Calculate IQR\n",
    "Q1 = df['Sales'].quantile(0.25)\n",
    "Q3 = df['Sales'].quantile(0.75)\n",
    "IQR = Q3 - Q1\n",
    "\n",
    "# Define lower and upper bounds\n",
    "lower_bound = Q1 - 1.5 * IQR\n",
    "upper_bound = Q3 + 1.5 * IQR\n",
    "\n",
    "# Apply capping\n",
    "df['Sales'] = df['Sales'].apply(lambda x: lower_bound if x < lower_bound else upper_bound if x > upper_bound else x)\n",
    "\n",
    "print(\"Capping applied to the Sales column.\")"
   ]
  },
  {
   "cell_type": "code",
   "execution_count": 28,
   "id": "3ac6854c-b7b0-4f54-b8db-3172101ca135",
   "metadata": {
    "scrolled": true
   },
   "outputs": [
    {
     "data": {
      "image/png": "[encoded data removed]",
      "text/plain": [
       "<Figure size 640x480 with 1 Axes>"
      ]
     },
     "metadata": {},
     "output_type": "display_data"
    }
   ],
   "source": [
    "import seaborn as sns\n",
    "import matplotlib.pyplot as plt\n",
    "\n",
    "# Boxplot for Sales\n",
    "sns.boxplot(x=df['Sales'])\n",
    "plt.title(\"Boxplot of Sales\")\n",
    "plt.show()"
   ]
  },
  {
   "cell_type": "code",
   "execution_count": 29,
   "id": "21eb2fea-1653-456b-a02e-1ed5b5ce8000",
   "metadata": {},
   "outputs": [],
   "source": [
    "from datetime import datetime"
   ]
  },
  {
   "cell_type": "code",
   "execution_count": 30,
   "id": "588c60cc-9810-4919-92ab-ab6516a779fc",
   "metadata": {},
   "outputs": [],
   "source": [
    "# Convert 'Order Date' and 'Ship Date' to datetime format\n",
    "df['Order Date'] = pd.to_datetime(df['Order Date'], dayfirst=True)\n",
    "df['Ship Date'] = pd.to_datetime(df['Ship Date'], dayfirst=True)"
   ]
  },
  {
   "cell_type": "code",
   "execution_count": 31,
   "id": "47072d94-247d-4542-a865-5f118bcc89f2",
   "metadata": {},
   "outputs": [
    {
     "name": "stdout",
     "output_type": "stream",
     "text": [
      "      Row ID        Order ID Order Date  Ship Date       Ship Mode  \\\n",
      "0          1  CA-2017-152156 2017-11-08 2017-11-11    Second Class   \n",
      "1          2  CA-2017-152156 2017-11-08 2017-11-11    Second Class   \n",
      "2          3  CA-2017-138688 2017-06-12 2017-06-16    Second Class   \n",
      "3          4  US-2016-108966 2016-10-11 2016-10-18  Standard Class   \n",
      "4          5  US-2016-108966 2016-10-11 2016-10-18  Standard Class   \n",
      "...      ...             ...        ...        ...             ...   \n",
      "9795    9796  CA-2017-125920 2017-05-21 2017-05-28  Standard Class   \n",
      "9796    9797  CA-2016-128608 2016-01-12 2016-01-17  Standard Class   \n",
      "9797    9798  CA-2016-128608 2016-01-12 2016-01-17  Standard Class   \n",
      "9798    9799  CA-2016-128608 2016-01-12 2016-01-17  Standard Class   \n",
      "9799    9800  CA-2016-128608 2016-01-12 2016-01-17  Standard Class   \n",
      "\n",
      "     Customer ID     Customer Name    Segment        Country             City  \\\n",
      "0       CG-12520       Claire Gute   Consumer  United States        Henderson   \n",
      "1       CG-12520       Claire Gute   Consumer  United States        Henderson   \n",
      "2       DV-13045   Darrin Van Huff  Corporate  United States      Los Angeles   \n",
      "3       SO-20335    Sean O'Donnell   Consumer  United States  Fort Lauderdale   \n",
      "4       SO-20335    Sean O'Donnell   Consumer  United States  Fort Lauderdale   \n",
      "...          ...               ...        ...            ...              ...   \n",
      "9795    SH-19975     Sally Hughsby  Corporate  United States          Chicago   \n",
      "9796    CS-12490  Cindy Schnelling  Corporate  United States           Toledo   \n",
      "9797    CS-12490  Cindy Schnelling  Corporate  United States           Toledo   \n",
      "9798    CS-12490  Cindy Schnelling  Corporate  United States           Toledo   \n",
      "9799    CS-12490  Cindy Schnelling  Corporate  United States           Toledo   \n",
      "\n",
      "           State  Postal Code   Region       Product ID         Category  \\\n",
      "0       Kentucky      42420.0    South  FUR-BO-10001798        Furniture   \n",
      "1       Kentucky      42420.0    South  FUR-CH-10000454        Furniture   \n",
      "2     California      90036.0     West  OFF-LA-10000240  Office Supplies   \n",
      "3        Florida      33311.0    South  FUR-TA-10000577        Furniture   \n",
      "4        Florida      33311.0    South  OFF-ST-10000760  Office Supplies   \n",
      "...          ...          ...      ...              ...              ...   \n",
      "9795    Illinois      60610.0  Central  OFF-BI-10003429  Office Supplies   \n",
      "9796        Ohio      43615.0     East  OFF-AR-10001374  Office Supplies   \n",
      "9797        Ohio      43615.0     East  TEC-PH-10004977       Technology   \n",
      "9798        Ohio      43615.0     East  TEC-PH-10000912       Technology   \n",
      "9799        Ohio      43615.0     East  TEC-AC-10000487       Technology   \n",
      "\n",
      "     Sub-Category                                       Product Name     Sales  \n",
      "0       Bookcases                  Bush Somerset Collection Bookcase  261.9600  \n",
      "1          Chairs  Hon Deluxe Fabric Upholstered Stacking Chairs,...  500.6405  \n",
      "2          Labels  Self-Adhesive Address Labels for Typewriters b...   14.6200  \n",
      "3          Tables      Bretford CR4500 Series Slim Rectangular Table  500.6405  \n",
      "4         Storage                     Eldon Fold 'N Roll Cart System   22.3680  \n",
      "...           ...                                                ...       ...  \n",
      "9795      Binders  Cardinal HOLDit! Binder Insert Strips,Extra St...    3.7980  \n",
      "9796          Art           BIC Brite Liner Highlighters, Chisel Tip   10.3680  \n",
      "9797       Phones                                        GE 30524EE4  235.1880  \n",
      "9798       Phones           Anker 24W Portable Micro USB Car Charger   26.3760  \n",
      "9799  Accessories                SanDisk Cruzer 4 GB USB Flash Drive   10.3840  \n",
      "\n",
      "[9800 rows x 18 columns]\n"
     ]
    }
   ],
   "source": [
    "print(df)"
   ]
  },
  {
   "cell_type": "code",
   "execution_count": 32,
   "id": "93982f87-4f4d-494c-aa1a-3f7b19cf81e8",
   "metadata": {},
   "outputs": [],
   "source": [
    "df['Year'] = df['Order Date'].dt.year\n",
    "df['Month'] = df['Order Date'].dt.month\n",
    "df['Ship Duration'] = (df['Ship Date'] - df['Order Date']).dt.days"
   ]
  },
  {
   "cell_type": "markdown",
   "id": "e4195621-4686-4f25-8fd0-8f559e62d90b",
   "metadata": {},
   "source": [
    "### Step 3: Data Analysis"
   ]
  },
  {
   "cell_type": "code",
   "execution_count": 33,
   "id": "fb4df74a-29f0-4006-b368-382e4205bc73",
   "metadata": {},
   "outputs": [
    {
     "name": "stdout",
     "output_type": "stream",
     "text": [
      "Total Sales: 1379994.7423\n"
     ]
    }
   ],
   "source": [
    "#Overall Sales Analysis\n",
    "#Total sales, average sales, and standard deviation.\n",
    "#Sales distribution.\n",
    "\n",
    "print(f\"Total Sales: {df['Sales'].sum()}\")"
   ]
  },
  {
   "cell_type": "code",
   "execution_count": 34,
   "id": "07c27bf1-b886-445f-b83b-2df93b01859a",
   "metadata": {},
   "outputs": [
    {
     "name": "stdout",
     "output_type": "stream",
     "text": [
      "Average Sales: 140.81579003061225\n"
     ]
    }
   ],
   "source": [
    "print(f\"Average Sales: {df['Sales'].mean()}\")"
   ]
  },
  {
   "cell_type": "code",
   "execution_count": 35,
   "id": "481bfc90-495d-46a3-90f8-256c36b7d9ea",
   "metadata": {},
   "outputs": [
    {
     "name": "stdout",
     "output_type": "stream",
     "text": [
      "Sales Standard Deviation: 169.55161174738487\n"
     ]
    }
   ],
   "source": [
    "print(f\"Sales Standard Deviation: {df['Sales'].std()}\")"
   ]
  },
  {
   "cell_type": "code",
   "execution_count": 36,
   "id": "ea428ae9-f6e3-4307-a619-4d58e88d3f09",
   "metadata": {},
   "outputs": [],
   "source": [
    "#Visualization\n",
    "#Histogram of Sales\n",
    "#Boxplot to visualize outliers\n",
    "\n",
    "import matplotlib.pyplot as plt\n",
    "import seaborn as sns"
   ]
  },
  {
   "cell_type": "code",
   "execution_count": 37,
   "id": "7c540bb4-dd89-482b-b9fe-97bc3f667d03",
   "metadata": {},
   "outputs": [
    {
     "data": {
      "image/png": "[encoded data removed]",
      "text/plain": [
       "<Figure size 640x480 with 1 Axes>"
      ]
     },
     "metadata": {},
     "output_type": "display_data"
    },
    {
     "data": {
      "image/png": "[encoded data removed]",
      "text/plain": [
       "<Figure size 640x480 with 1 Axes>"
      ]
     },
     "metadata": {},
     "output_type": "display_data"
    }
   ],
   "source": [
    "sns.histplot(df['Sales'], bins = 30, kde = True)\n",
    "plt.title(\"Sales Distribution\")\n",
    "plt.show()\n",
    "\n",
    "sns.boxplot(x = df['Sales'])\n",
    "plt.title(\"Sales Boxplot\")\n",
    "plt.show()"
   ]
  },
  {
   "cell_type": "markdown",
   "id": "5f592aa7-1934-432c-8607-a8f7fe5e71a9",
   "metadata": {},
   "source": [
    "### 3. Sales by Category and Sub-Category"
   ]
  },
  {
   "cell_type": "code",
   "execution_count": 38,
   "id": "38f5fb44-2bdb-45ef-ad53-d86429fd6f57",
   "metadata": {
    "scrolled": true
   },
   "outputs": [
    {
     "name": "stdout",
     "output_type": "stream",
     "text": [
      "Category\n",
      "Furniture          473164.4243\n",
      "Office Supplies    484165.7760\n",
      "Technology         422664.5420\n",
      "Name: Sales, dtype: float64\n",
      "Sub-Category\n",
      "Phones         220493.3140\n",
      "Chairs         202686.7300\n",
      "Storage        162743.8730\n",
      "Accessories    124769.2130\n",
      "Tables         116668.6960\n",
      "Binders         98502.1420\n",
      "Furnishings     82599.7210\n",
      "Paper           76209.6160\n",
      "Appliances      73755.3160\n",
      "Bookcases       71209.2773\n",
      "Machines        45006.9495\n",
      "Copiers         32395.0655\n",
      "Art             26093.0265\n",
      "Envelopes       16024.0305\n",
      "Supplies        15902.4690\n",
      "Labels          11933.3430\n",
      "Fasteners        3001.9600\n",
      "Name: Sales, dtype: float64\n"
     ]
    }
   ],
   "source": [
    "#Analyze which categories and sub-categories contribute the most.\n",
    "\n",
    "category_sales = df.groupby('Category')['Sales'].sum()\n",
    "subcategory_sales = df.groupby('Sub-Category')['Sales'].sum().sort_values(ascending = False)\n",
    "\n",
    "print(category_sales)\n",
    "print(subcategory_sales)"
   ]
  },
  {
   "cell_type": "code",
   "execution_count": 39,
   "id": "b7cfbd98-c9d4-4f15-ae01-5ac15b7ac249",
   "metadata": {},
   "outputs": [
    {
     "data": {
      "image/png": "[encoded data removed]",
      "text/plain": [
       "<Figure size 600x600 with 1 Axes>"
      ]
     },
     "metadata": {},
     "output_type": "display_data"
    },
    {
     "data": {
      "image/png": "[encoded data removed]",
      "text/plain": [
       "<Figure size 800x800 with 1 Axes>"
      ]
     },
     "metadata": {},
     "output_type": "display_data"
    }
   ],
   "source": [
    "#Visualization\n",
    "#Pie Chart for Category sales\n",
    "#Horizontal bar chart for sub-category sales\n",
    "\n",
    "category_sales.plot(kind = 'pie', autopct = '%1.1f%%', startangle = 140, figsize = (6, 6))\n",
    "plt.title(\"Sales by Category\")\n",
    "plt.ylabel(\"\")\n",
    "plt.show()\n",
    "\n",
    "subcategory_sales.plot(kind='barh', color='coral', figsize=(8, 8))\n",
    "plt.title(\"Sales by Sub-Category\")\n",
    "plt.xlabel(\"Total Sales\")\n",
    "plt.ylabel(\"Sub-Category\")\n",
    "plt.show()"
   ]
  },
  {
   "cell_type": "markdown",
   "id": "60aecc8d-b185-44ba-96b1-10c263af0162",
   "metadata": {},
   "source": [
    "### 4. Sales Trends Over Time"
   ]
  },
  {
   "cell_type": "code",
   "execution_count": 40,
   "id": "ac37dcb2-bc02-4ae4-8921-6d92b2aaf26e",
   "metadata": {
    "scrolled": true
   },
   "outputs": [
    {
     "name": "stdout",
     "output_type": "stream",
     "text": [
      "    Year  Month       Sales\n",
      "0   2015      1   9912.7315\n",
      "1   2015      2   3764.3125\n",
      "2   2015      3  21980.1340\n",
      "3   2015      4  18542.3085\n",
      "4   2015      5  16460.4170\n",
      "5   2015      6  20751.6071\n",
      "6   2015      7  20371.5965\n",
      "7   2015      8  20172.5380\n",
      "8   2015      9  37564.4618\n",
      "9   2015     10  21706.3450\n",
      "10  2015     11  48747.4302\n",
      "11  2015     12  40913.8830\n",
      "12  2016      1   8490.7590\n",
      "13  2016      2   8568.0125\n",
      "14  2016      3  17962.2920\n",
      "15  2016      4  23640.7010\n",
      "16  2016      5  19146.1465\n",
      "17  2016      6  16168.9850\n",
      "18  2016      7  21369.5795\n",
      "19  2016      8  24488.1942\n",
      "20  2016      9  40216.1980\n",
      "21  2016     10  23014.5500\n",
      "22  2016     11  49471.7103\n",
      "23  2016     12  45118.6860\n",
      "24  2017      1  12514.0810\n",
      "25  2017      2  12656.7335\n",
      "26  2017      3  26654.6775\n",
      "27  2017      4  21717.9490\n",
      "28  2017      5  28555.6425\n",
      "29  2017      6  26753.0510\n",
      "30  2017      7  26835.9235\n",
      "31  2017      8  21750.2563\n",
      "32  2017      9  46840.1585\n",
      "33  2017     10  25285.3030\n",
      "34  2017     11  50303.7435\n",
      "35  2017     12  56162.6780\n",
      "36  2018      1  20385.8515\n",
      "37  2018      2  15096.6884\n",
      "38  2018      3  33470.2723\n",
      "39  2018      4  22668.2636\n",
      "40  2018      5  31967.5794\n",
      "41  2018      6  34408.2347\n",
      "42  2018      7  31800.9025\n",
      "43  2018      8  33361.6780\n",
      "44  2018      9  57381.9420\n",
      "45  2018     10  39056.8857\n",
      "46  2018     11  66318.1870\n",
      "47  2018     12  59504.4808\n"
     ]
    }
   ],
   "source": [
    "#Group by year and month to see trends.\n",
    "\n",
    "monthly_sales = df.groupby(['Year', 'Month'])['Sales'].sum().reset_index()\n",
    "print(monthly_sales)"
   ]
  },
  {
   "cell_type": "code",
   "execution_count": 41,
   "id": "ac3cf377-e646-4676-8af6-9c328b702e4b",
   "metadata": {},
   "outputs": [
    {
     "data": {
      "image/png": "[encoded data removed]",
      "text/plain": [
       "<Figure size 640x480 with 1 Axes>"
      ]
     },
     "metadata": {},
     "output_type": "display_data"
    }
   ],
   "source": [
    "#Visualization\n",
    "#Line chart for monthly sales trend.\n",
    "\n",
    "plt.plot(monthly_sales['Sales'])\n",
    "plt.title(\"Sales Trend Over Time\")\n",
    "plt.xlabel(\"Time (Year-Month)\")\n",
    "plt.ylabel(\"Total Sales\")\n",
    "plt.xticks(rotation=45)\n",
    "plt.show()"
   ]
  },
  {
   "cell_type": "markdown",
   "id": "68f56cb7-b023-4881-be75-e5f710475bbf",
   "metadata": {},
   "source": [
    "### 5. Impact of Shipping Mode"
   ]
  },
  {
   "cell_type": "code",
   "execution_count": 42,
   "id": "9e96f9e0-f1a1-4742-ba15-c3034444a925",
   "metadata": {},
   "outputs": [
    {
     "name": "stdout",
     "output_type": "stream",
     "text": [
      "Ship Mode\n",
      "Standard Class    820318.6672\n",
      "Second Class      274349.5987\n",
      "First Class       209133.1349\n",
      "Same Day           76193.3415\n",
      "Name: Sales, dtype: float64\n"
     ]
    }
   ],
   "source": [
    "#Compare sales across different shipping modes.\n",
    "\n",
    "ship_mode_sales = df.groupby('Ship Mode')['Sales'].sum().sort_values(ascending=False)\n",
    "print(ship_mode_sales)"
   ]
  },
  {
   "cell_type": "code",
   "execution_count": 43,
   "id": "56d709d6-d7f1-474b-bcac-6182dc38dfd6",
   "metadata": {},
   "outputs": [
    {
     "data": {
      "image/png": "[encoded data removed]",
      "text/plain": [
       "<Figure size 800x500 with 1 Axes>"
      ]
     },
     "metadata": {},
     "output_type": "display_data"
    }
   ],
   "source": [
    "#Visualization: Bar chart for shipping mode.\n",
    "\n",
    "ship_mode_sales.plot(kind='bar', color='green', figsize=(8, 5))\n",
    "plt.title(\"Sales by Ship Mode\")\n",
    "plt.xlabel(\"Ship Mode\")\n",
    "plt.ylabel(\"Total Sales\")\n",
    "plt.show()"
   ]
  },
  {
   "cell_type": "code",
   "execution_count": 44,
   "id": "7ff12cba-6dbe-4bb6-a4c0-5032c29b59c2",
   "metadata": {},
   "outputs": [
    {
     "name": "stdout",
     "output_type": "stream",
     "text": [
      "Missing values in each column:\n",
      " Row ID           0\n",
      "Order ID         0\n",
      "Order Date       0\n",
      "Ship Date        0\n",
      "Ship Mode        0\n",
      "Customer ID      0\n",
      "Customer Name    0\n",
      "Segment          0\n",
      "Country          0\n",
      "City             0\n",
      "State            0\n",
      "Postal Code      0\n",
      "Region           0\n",
      "Product ID       0\n",
      "Category         0\n",
      "Sub-Category     0\n",
      "Product Name     0\n",
      "Sales            0\n",
      "Year             0\n",
      "Month            0\n",
      "Ship Duration    0\n",
      "dtype: int64\n"
     ]
    }
   ],
   "source": [
    "# Check for missing values\n",
    "missing_values = df.isnull().sum()\n",
    "print(\"Missing values in each column:\\n\", missing_values)"
   ]
  },
  {
   "cell_type": "code",
   "execution_count": 45,
   "id": "37de552e-63d0-497c-8012-5d6e996bd90a",
   "metadata": {},
   "outputs": [
    {
     "name": "stdout",
     "output_type": "stream",
     "text": [
      "            Row ID                     Order Date  \\\n",
      "count  9800.000000                           9800   \n",
      "mean   4900.500000  2017-05-01 05:13:51.673469440   \n",
      "min       1.000000            2015-01-03 00:00:00   \n",
      "25%    2450.750000            2016-05-24 00:00:00   \n",
      "50%    4900.500000            2017-06-26 00:00:00   \n",
      "75%    7350.250000            2018-05-15 00:00:00   \n",
      "max    9800.000000            2018-12-30 00:00:00   \n",
      "std    2829.160653                            NaN   \n",
      "\n",
      "                           Ship Date   Postal Code        Sales         Year  \\\n",
      "count                           9800   9800.000000  9800.000000  9800.000000   \n",
      "mean   2017-05-05 04:17:52.653061120  55211.280918   140.815790  2016.724184   \n",
      "min              2015-01-07 00:00:00      0.000000     0.444000  2015.000000   \n",
      "25%              2016-05-27 18:00:00  23223.000000    17.248000  2016.000000   \n",
      "50%              2017-06-29 00:00:00  57551.000000    54.490000  2017.000000   \n",
      "75%              2018-05-19 00:00:00  90008.000000   210.605000  2018.000000   \n",
      "max              2019-01-05 00:00:00  99301.000000   500.640500  2018.000000   \n",
      "std                              NaN  32076.677954   169.551612     1.123984   \n",
      "\n",
      "             Month  Ship Duration  \n",
      "count  9800.000000    9800.000000  \n",
      "mean      7.818469       3.961122  \n",
      "min       1.000000       0.000000  \n",
      "25%       5.000000       3.000000  \n",
      "50%       9.000000       4.000000  \n",
      "75%      11.000000       5.000000  \n",
      "max      12.000000       7.000000  \n",
      "std       3.281905       1.749614  \n"
     ]
    }
   ],
   "source": [
    "# Summary statistics\n",
    "print(df.describe())"
   ]
  },
  {
   "cell_type": "code",
   "execution_count": 46,
   "id": "21db9102-dfc7-455f-af60-e65c5d36bb9d",
   "metadata": {},
   "outputs": [
    {
     "name": "stdout",
     "output_type": "stream",
     "text": [
      "Preprocessed data saved to C:\\Users\\vaide\\Downloads\\archive\\preprocessed_data.csv\n"
     ]
    }
   ],
   "source": [
    "# Specify the file path where you want to save the preprocessed data\n",
    "file_path = r\"C:\\Users\\vaide\\Downloads\\archive\\preprocessed_data.csv\"\n",
    "\n",
    "# Save the preprocessed dataset\n",
    "df.to_csv(file_path, index=False)\n",
    "print(f\"Preprocessed data saved to {file_path}\")"
   ]
  },
  {
   "cell_type": "code",
   "execution_count": null,
   "id": "0934a1ce-1593-401d-9ed8-c06baab18b35",
   "metadata": {},
   "outputs": [],
   "source": []
  }
 ],
 "metadata": {
  "kernelspec": {
   "display_name": "Python 3 (ipykernel)",
   "language": "python",
   "name": "python3"
  },
  "language_info": {
   "codemirror_mode": {
    "name": "ipython",
    "version": 3
   },
   "file_extension": ".py",
   "mimetype": "text/x-python",
   "name": "python",
   "nbconvert_exporter": "python",
   "pygments_lexer": "ipython3",
   "version": "3.12.7"
  }
 },
 "nbformat": 4,
 "nbformat_minor": 5
}
